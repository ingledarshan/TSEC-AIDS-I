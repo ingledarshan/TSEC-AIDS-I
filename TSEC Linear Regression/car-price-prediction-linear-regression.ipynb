{
 "cells": [
  {
   "cell_type": "markdown",
   "metadata": {
    "_uuid": "582388f94e74d2a8e7a719fcb22156b64855f299"
   },
   "source": [
    "# Prediction of car prices\n",
    "\n",
    "### Problem Statement\n",
    "A Chinese automobile company __Geely Auto__ aspires to enter the US market by setting up their manufacturing unit there and producing cars locally to give competition to their US and European counterparts. \n",
    "\n",
    "They have contracted an automobile consulting company to understand the factors on which the pricing of cars depends. Specifically, they want to understand the factors affecting the pricing of cars in the American market, since those may be very different from the Chinese market. \n",
    "\n",
    "__The company wants to know:__ <br>\n",
    "Which variables are significant in predicting the price of a car.<br>\n",
    "How well those variables describe the price of a car.<br>\n",
    "\n",
    "Based on various market surveys, the consulting firm has gathered a large dataset of different types of cars across the Americal market. <br>\n",
    "\n",
    " \n",
    "\n",
    "### Business Goal \n",
    "\n",
    "You are required to model the price of cars with the available independent variables. It will be used by the management to understand how exactly the prices vary with the independent variables. They can accordingly manipulate the design of the cars, the business strategy etc. to meet certain price levels. \n",
    "Further, the model will be a good way for management to understand the pricing dynamics of a new market. \n"
   ]
  },
  {
   "cell_type": "markdown",
   "metadata": {
    "_uuid": "c2353420d2e5fb4ecb897ccde64d857688dc4988"
   },
   "source": [
    "## Reading and Understanding Data"
   ]
  },
  {
   "cell_type": "code",
   "execution_count": null,
   "metadata": {
    "ExecuteTime": {
     "end_time": "2023-02-13T05:05:54.017729Z",
     "start_time": "2023-02-13T05:05:54.012897Z"
    },
    "_uuid": "6ca958d686249860bf39a0b11efca67df12b687b"
   },
   "outputs": [],
   "source": [
    "# supress warnings\n",
    "import warnings\n",
    "warnings.filterwarnings('ignore')"
   ]
  },
  {
   "cell_type": "code",
   "execution_count": null,
   "metadata": {
    "ExecuteTime": {
     "end_time": "2023-02-13T05:05:54.031726Z",
     "start_time": "2023-02-13T05:05:54.023090Z"
    },
    "_uuid": "a46e547d8cf6f8fadaf6201b057cfc577b4d7bf7"
   },
   "outputs": [],
   "source": [
    "# Importing all required packages\n",
    "import numpy as np\n",
    "import pandas as pd\n",
    "import matplotlib.pyplot as plt\n",
    "import seaborn as sns\n",
    "%matplotlib inline\n",
    "from matplotlib.pyplot import xticks"
   ]
  },
  {
   "cell_type": "code",
   "execution_count": null,
   "metadata": {
    "ExecuteTime": {
     "end_time": "2023-02-13T05:05:54.041532Z",
     "start_time": "2023-02-13T05:05:54.034444Z"
    },
    "_uuid": "f882787117022a38c73284d3d9fee9f1e464a4ea"
   },
   "outputs": [],
   "source": [
    "df = pd.DataFrame(pd.read_csv(\"CarPrice_Assignment.csv\"))"
   ]
  },
  {
   "cell_type": "code",
   "execution_count": null,
   "metadata": {
    "ExecuteTime": {
     "end_time": "2023-02-13T05:05:54.059800Z",
     "start_time": "2023-02-13T05:05:54.044428Z"
    },
    "_uuid": "814c3cc2c8ade698a0643c88dd2dffe8a23b7deb"
   },
   "outputs": [],
   "source": [
    "df.head()"
   ]
  },
  {
   "cell_type": "markdown",
   "metadata": {
    "_uuid": "ad9dcad0ea26ac597d0d45f4b39c4a84160213d0"
   },
   "source": [
    "### Data Inspection"
   ]
  },
  {
   "cell_type": "code",
   "execution_count": null,
   "metadata": {
    "ExecuteTime": {
     "end_time": "2023-02-13T05:05:54.064289Z",
     "start_time": "2023-02-13T05:05:54.061356Z"
    },
    "_uuid": "a1185d76438b6d525ca99cfb7d639edf0ed9e0d6"
   },
   "outputs": [],
   "source": [
    "df.shape\n",
    "# Data has 26 columns and 205 rows."
   ]
  },
  {
   "cell_type": "code",
   "execution_count": null,
   "metadata": {
    "ExecuteTime": {
     "end_time": "2023-02-13T05:05:54.090954Z",
     "start_time": "2023-02-13T05:05:54.065587Z"
    },
    "_uuid": "b7e706a7bbc4c81c9de35ed1240da81beeb918b4"
   },
   "outputs": [],
   "source": [
    "df.describe()"
   ]
  },
  {
   "cell_type": "code",
   "execution_count": null,
   "metadata": {
    "ExecuteTime": {
     "end_time": "2023-02-13T05:05:54.105105Z",
     "start_time": "2023-02-13T05:05:54.092473Z"
    },
    "_uuid": "f71f9a4fe37f5491a90b24d610bdc4672969b470"
   },
   "outputs": [],
   "source": [
    "df.info()"
   ]
  },
  {
   "cell_type": "code",
   "execution_count": null,
   "metadata": {
    "ExecuteTime": {
     "end_time": "2023-02-13T05:05:54.110133Z",
     "start_time": "2023-02-13T05:05:54.106579Z"
    },
    "_uuid": "b7038804927ccf94676d769f38f6624b3ae48fc3"
   },
   "outputs": [],
   "source": [
    "df.columns"
   ]
  },
  {
   "cell_type": "markdown",
   "metadata": {
    "_uuid": "724a5ff189ab1e5d30d3e2362176d1cadb891911"
   },
   "source": [
    "### Data Cleaning"
   ]
  },
  {
   "cell_type": "code",
   "execution_count": null,
   "metadata": {
    "ExecuteTime": {
     "end_time": "2023-02-13T05:05:54.115440Z",
     "start_time": "2023-02-13T05:05:54.111355Z"
    },
    "_uuid": "777528c548ea9018c2142ec532493a889652c18f"
   },
   "outputs": [],
   "source": [
    "#checking duplicates\n",
    "sum(df.duplicated(subset = 'car_ID')) == 0\n",
    "# No duplicate values"
   ]
  },
  {
   "cell_type": "code",
   "execution_count": null,
   "metadata": {
    "ExecuteTime": {
     "end_time": "2023-02-13T05:05:54.123774Z",
     "start_time": "2023-02-13T05:05:54.118391Z"
    },
    "_uuid": "3c1905e84c0628f4b541b08ee7a3c2cf5ad975d6"
   },
   "outputs": [],
   "source": [
    "# Checking Null values\n",
    "df.isnull().sum()*100/df.shape[0]\n",
    "# There are no NULL values in the dataset, hence it is clean."
   ]
  },
  {
   "cell_type": "markdown",
   "metadata": {
    "_uuid": "a8432f8bbcc4e953ebd72d248f4bbc7236da9cc0"
   },
   "source": [
    "## __Exploratory Data Analysis ( EDA )__"
   ]
  },
  {
   "cell_type": "markdown",
   "metadata": {
    "_uuid": "4e35e06aa187d616cdd83390d0abd4268a452800"
   },
   "source": [
    "## Univariate Analysis"
   ]
  },
  {
   "cell_type": "markdown",
   "metadata": {
    "_uuid": "2190dcfabbbad16e8f2b0aa44a05202e60dfa5b9"
   },
   "source": [
    "### Price : Target Variable"
   ]
  },
  {
   "cell_type": "code",
   "execution_count": null,
   "metadata": {
    "ExecuteTime": {
     "end_time": "2023-02-13T05:05:54.129608Z",
     "start_time": "2023-02-13T05:05:54.125001Z"
    },
    "_uuid": "1accd98e14788a0244ef0b0473323f0678ade989"
   },
   "outputs": [],
   "source": [
    "df.price.describe()"
   ]
  },
  {
   "cell_type": "code",
   "execution_count": null,
   "metadata": {
    "ExecuteTime": {
     "end_time": "2023-02-13T05:05:54.214608Z",
     "start_time": "2023-02-13T05:05:54.130770Z"
    },
    "_uuid": "b3188882432c55870ed2affb6e0f7b13e3b331af",
    "scrolled": false
   },
   "outputs": [],
   "source": [
    "sns.distplot(df['price'])"
   ]
  },
  {
   "cell_type": "code",
   "execution_count": null,
   "metadata": {
    "ExecuteTime": {
     "end_time": "2023-02-13T05:05:54.217602Z",
     "start_time": "2023-02-13T05:05:54.215863Z"
    },
    "_uuid": "a2ef698bb14e1edf8f6ac57198927c0effeaf268"
   },
   "outputs": [],
   "source": [
    "# Inference\n",
    "# Mean and median of price are significantly different.\n",
    "# Large standard deviation indicates that there is considerable variance in the prices of the automobiles.\n",
    "# Price values are right-skewed, most cars are priced at the lower end (9000) of the price range."
   ]
  },
  {
   "cell_type": "markdown",
   "metadata": {
    "_uuid": "84ee74c1348ba797d0b80899df4617c3b8ad0677"
   },
   "source": [
    "### Car ID"
   ]
  },
  {
   "cell_type": "code",
   "execution_count": null,
   "metadata": {
    "ExecuteTime": {
     "end_time": "2023-02-13T05:05:54.220420Z",
     "start_time": "2023-02-13T05:05:54.218671Z"
    },
    "_uuid": "a718d1899dedf60339a8212d676312db0b24c087"
   },
   "outputs": [],
   "source": [
    "# car_ID : Unique ID for each observation"
   ]
  },
  {
   "cell_type": "markdown",
   "metadata": {
    "_uuid": "a01286965d8e137dd7288cb99cee5db2b66292a2"
   },
   "source": [
    "### Symboling"
   ]
  },
  {
   "cell_type": "code",
   "execution_count": null,
   "metadata": {
    "ExecuteTime": {
     "end_time": "2023-02-13T05:05:54.222944Z",
     "start_time": "2023-02-13T05:05:54.221432Z"
    },
    "_uuid": "80e897667b6b316d46c727fe06754acb5b9a6300"
   },
   "outputs": [],
   "source": [
    "# symboling : Its assigned insurance risk rating\n",
    "#             A value of +3 indicates that the auto is risky,\n",
    "#             -3 that it is probably pretty safe.(Categorical)"
   ]
  },
  {
   "cell_type": "code",
   "execution_count": null,
   "metadata": {
    "ExecuteTime": {
     "end_time": "2023-02-13T05:05:54.225466Z",
     "start_time": "2023-02-13T05:05:54.223926Z"
    },
    "_uuid": "09a98c317e2dbde6a840498a9a040d838d3d78d7"
   },
   "outputs": [],
   "source": [
    "# Let's see the count of automobile in each category and percent share of each category."
   ]
  },
  {
   "cell_type": "code",
   "execution_count": null,
   "metadata": {
    "ExecuteTime": {
     "end_time": "2023-02-13T05:05:54.290288Z",
     "start_time": "2023-02-13T05:05:54.226595Z"
    },
    "_uuid": "8f207fb72baf0d472c36db8042a29a6bf9be59c6"
   },
   "outputs": [],
   "source": [
    "plt1 = sns.countplot(df['symboling'])\n",
    "plt1.set(xlabel = 'Symbol', ylabel= 'Count of Cars')\n",
    "plt.show()\n",
    "plt.tight_layout()"
   ]
  },
  {
   "cell_type": "code",
   "execution_count": null,
   "metadata": {
    "ExecuteTime": {
     "end_time": "2023-02-13T05:05:54.414046Z",
     "start_time": "2023-02-13T05:05:54.291290Z"
    },
    "_uuid": "8f207fb72baf0d472c36db8042a29a6bf9be59c6",
    "scrolled": false
   },
   "outputs": [],
   "source": [
    "df_sym = pd.DataFrame(df['symboling'].value_counts())\n",
    "df_sym.plot.pie(subplots=True,labels = df_sym.index.values, autopct='%1.1f%%', figsize = (15,7.5))\n",
    "# Unsquish the pie.\n",
    "plt.gca().set_aspect('equal')\n",
    "plt.show()\n",
    "plt.tight_layout()"
   ]
  },
  {
   "cell_type": "code",
   "execution_count": null,
   "metadata": {
    "ExecuteTime": {
     "end_time": "2023-02-13T05:05:54.417306Z",
     "start_time": "2023-02-13T05:05:54.415394Z"
    },
    "_uuid": "50c3ae40621836d200c1dd61418f0abb584582e0"
   },
   "outputs": [],
   "source": [
    "# Let's see average price of cars in each symbol category."
   ]
  },
  {
   "cell_type": "code",
   "execution_count": null,
   "metadata": {
    "ExecuteTime": {
     "end_time": "2023-02-13T05:05:54.486329Z",
     "start_time": "2023-02-13T05:05:54.418455Z"
    },
    "_uuid": "b6a16d49692734d6a30e16b0305a9e9fbec04350"
   },
   "outputs": [],
   "source": [
    "plt1 = df[['symboling','price']].groupby(\"symboling\").mean().plot(kind='bar',legend = False,)\n",
    "plt1.set_xlabel(\"Symbol\")\n",
    "plt1.set_ylabel(\"Avg Price (Dollars)\")\n",
    "xticks(rotation = 0)\n",
    "plt.show()\n"
   ]
  },
  {
   "cell_type": "code",
   "execution_count": null,
   "metadata": {
    "ExecuteTime": {
     "end_time": "2023-02-13T05:05:54.489197Z",
     "start_time": "2023-02-13T05:05:54.487600Z"
    },
    "_uuid": "dc615edc1cd4727ef19e6ece5af91c4955eb0acc"
   },
   "outputs": [],
   "source": [
    "# Inference\n",
    "# More than 50% of cars are with symbol 0 or 1.\n",
    "# Average price of car is lower for 0,1 & 2 symbol category."
   ]
  },
  {
   "cell_type": "markdown",
   "metadata": {
    "_uuid": "a2f6b4d5cf1d457054915829babf6ecf7a886563"
   },
   "source": [
    "### Car Name"
   ]
  },
  {
   "cell_type": "code",
   "execution_count": null,
   "metadata": {
    "ExecuteTime": {
     "end_time": "2023-02-13T05:05:54.493181Z",
     "start_time": "2023-02-13T05:05:54.490231Z"
    },
    "_uuid": "03ba5cca898e97e061890d29d22e187a4d8ad111"
   },
   "outputs": [],
   "source": [
    "df.CarName.values[0:10]"
   ]
  },
  {
   "cell_type": "code",
   "execution_count": null,
   "metadata": {
    "ExecuteTime": {
     "end_time": "2023-02-13T05:05:54.496350Z",
     "start_time": "2023-02-13T05:05:54.494346Z"
    },
    "_uuid": "6e0e36f0bd84e91ab00bfcb67aaf69237e89ede7"
   },
   "outputs": [],
   "source": [
    "# It is observed that Car Name consists of two parts 'car company' + ' ' + 'Car Model'\n",
    "# Let's split out car company to a new column."
   ]
  },
  {
   "cell_type": "code",
   "execution_count": null,
   "metadata": {
    "ExecuteTime": {
     "end_time": "2023-02-13T05:05:54.500628Z",
     "start_time": "2023-02-13T05:05:54.497398Z"
    },
    "_uuid": "9ac3c175c5f3acee5a1e5858788c8ad7282f95c5"
   },
   "outputs": [],
   "source": [
    "df['brand'] = df.CarName.str.split(' ').str.get(0).str.upper()"
   ]
  },
  {
   "cell_type": "code",
   "execution_count": null,
   "metadata": {
    "ExecuteTime": {
     "end_time": "2023-02-13T05:05:54.504652Z",
     "start_time": "2023-02-13T05:05:54.502065Z"
    },
    "_uuid": "b4023b0a62e21f727a958b1ce66d7ea675737aa8"
   },
   "outputs": [],
   "source": [
    "len(set(df.brand.values))"
   ]
  },
  {
   "cell_type": "code",
   "execution_count": null,
   "metadata": {
    "ExecuteTime": {
     "end_time": "2023-02-13T05:05:54.507339Z",
     "start_time": "2023-02-13T05:05:54.505623Z"
    },
    "_uuid": "7421eff930367036188ab7c2f48ec8b23f4e2afd"
   },
   "outputs": [],
   "source": [
    "# Let's see companies and their no of models."
   ]
  },
  {
   "cell_type": "code",
   "execution_count": null,
   "metadata": {
    "ExecuteTime": {
     "end_time": "2023-02-13T05:05:54.655269Z",
     "start_time": "2023-02-13T05:05:54.508246Z"
    },
    "_uuid": "2db4e1052df589f897ecbf3f0508984e9ed78df8",
    "scrolled": true
   },
   "outputs": [],
   "source": [
    "fig, ax = plt.subplots(figsize = (15,5))\n",
    "plt1 = sns.countplot(df['brand'], order=pd.value_counts(df['brand']).index,)\n",
    "plt1.set(xlabel = 'Brand', ylabel= 'Count of Cars')\n",
    "xticks(rotation = 90)\n",
    "plt.show()\n",
    "plt.tight_layout()"
   ]
  },
  {
   "cell_type": "code",
   "execution_count": null,
   "metadata": {
    "ExecuteTime": {
     "end_time": "2023-02-13T05:05:54.666922Z",
     "start_time": "2023-02-13T05:05:54.661719Z"
    },
    "_uuid": "d07545a451b803c3a4bb0469c92d7921ef883a99"
   },
   "outputs": [],
   "source": [
    "# It's noticed that in brand names,\n",
    "# VOLKSWAGON has three different values as VOLKSWAGEN, VOKSWAGEN and VW\n",
    "# MAZDA is also spelled as MAXDA\n",
    "# PORSCHE as PORSCHE and PORCSCHE.\n",
    "# Let's fix these data issues.\n",
    "df['brand'] = df['brand'].replace(['VW', 'VOKSWAGEN'], 'VOLKSWAGEN')\n",
    "df['brand'] = df['brand'].replace(['MAXDA'], 'MAZDA')\n",
    "df['brand'] = df['brand'].replace(['PORCSHCE'], 'PORSCHE')\n",
    "df['brand'] = df['brand'].replace(['TOYOUTA'], 'TOYOTA')"
   ]
  },
  {
   "cell_type": "code",
   "execution_count": null,
   "metadata": {
    "ExecuteTime": {
     "end_time": "2023-02-13T05:05:54.792900Z",
     "start_time": "2023-02-13T05:05:54.668080Z"
    },
    "_uuid": "29f923eeb1f1b8e719024b0c26adc18954d2539e",
    "scrolled": true
   },
   "outputs": [],
   "source": [
    "fig, ax = plt.subplots(figsize = (15,5))\n",
    "plt1 = sns.countplot(df['brand'], order=pd.value_counts(df['brand']).index,)\n",
    "plt1.set(xlabel = 'Brand', ylabel= 'Count of Cars')\n",
    "xticks(rotation = 90)\n",
    "plt.show()\n",
    "plt.tight_layout()"
   ]
  },
  {
   "cell_type": "code",
   "execution_count": null,
   "metadata": {
    "ExecuteTime": {
     "end_time": "2023-02-13T05:05:54.798736Z",
     "start_time": "2023-02-13T05:05:54.794252Z"
    },
    "_uuid": "3a16147637d8f9528d42a035d4a38bf86c392014"
   },
   "outputs": [],
   "source": [
    "df.brand.describe()"
   ]
  },
  {
   "cell_type": "code",
   "execution_count": null,
   "metadata": {
    "ExecuteTime": {
     "end_time": "2023-02-13T05:05:54.802611Z",
     "start_time": "2023-02-13T05:05:54.800105Z"
    },
    "_uuid": "5ed3e5c0d30a5b07bccd2b23e38b5b1fec12ad54"
   },
   "outputs": [],
   "source": [
    "# Inference\n",
    "# Toyota, a Japanese company has the most no of models."
   ]
  },
  {
   "cell_type": "code",
   "execution_count": null,
   "metadata": {
    "ExecuteTime": {
     "end_time": "2023-02-13T05:05:54.806284Z",
     "start_time": "2023-02-13T05:05:54.803837Z"
    },
    "_uuid": "a3b934a7bc8df5082751f18113d8749d73bf4454"
   },
   "outputs": [],
   "source": [
    "# Let's see average car price of each company."
   ]
  },
  {
   "cell_type": "code",
   "execution_count": null,
   "metadata": {
    "ExecuteTime": {
     "end_time": "2023-02-13T05:05:54.993794Z",
     "start_time": "2023-02-13T05:05:54.808321Z"
    },
    "_uuid": "aa0f79e9674520792da8c9d62816602b7624d1fb",
    "scrolled": true
   },
   "outputs": [],
   "source": [
    "\n",
    "df_comp_avg_price = df[['brand','price']].groupby(\"brand\", as_index = False).mean().rename(columns={'price':'brand_avg_price'})\n",
    "plt1 = df_comp_avg_price.plot(x = 'brand', kind='bar',legend = False, sort_columns = True, figsize = (15,3))\n",
    "plt1.set_xlabel(\"Brand\")\n",
    "plt1.set_ylabel(\"Avg Price (Dollars)\")\n",
    "xticks(rotation = 90)\n",
    "plt.show()"
   ]
  },
  {
   "cell_type": "code",
   "execution_count": null,
   "metadata": {
    "ExecuteTime": {
     "end_time": "2023-02-13T05:05:54.997585Z",
     "start_time": "2023-02-13T05:05:54.995511Z"
    },
    "_uuid": "55fb2b222ed13b8ae3176964986aa3b057871635"
   },
   "outputs": [],
   "source": [
    "#df_comp_avg_price"
   ]
  },
  {
   "cell_type": "code",
   "execution_count": null,
   "metadata": {
    "ExecuteTime": {
     "end_time": "2023-02-13T05:05:55.005598Z",
     "start_time": "2023-02-13T05:05:54.999099Z"
    },
    "_uuid": "9976c4c963f363e5e08c6a5387589430ddca55b5"
   },
   "outputs": [],
   "source": [
    "df = df.merge(df_comp_avg_price, on = 'brand')"
   ]
  },
  {
   "cell_type": "code",
   "execution_count": null,
   "metadata": {
    "ExecuteTime": {
     "end_time": "2023-02-13T05:05:55.009980Z",
     "start_time": "2023-02-13T05:05:55.006851Z"
    },
    "_uuid": "c0f9d4a206c6b60798120b870e497c5415e3014c"
   },
   "outputs": [],
   "source": [
    "df['brand_category'] = df['brand_avg_price'].apply(lambda x : \"Budget\" if x < 10000 \n",
    "                                                     else (\"Mid_Range\" if 10000 <= x < 20000\n",
    "                                                           else \"Luxury\"))\n"
   ]
  },
  {
   "cell_type": "code",
   "execution_count": null,
   "metadata": {
    "ExecuteTime": {
     "end_time": "2023-02-13T05:05:55.013184Z",
     "start_time": "2023-02-13T05:05:55.011414Z"
    },
    "_uuid": "68c5e3f0fa862e766fcea91cca7aed93debcaf32"
   },
   "outputs": [],
   "source": [
    "# Inference:\n",
    "# Toyota has considerably high no of models in the market.\n",
    "# Brands can be categorised as Luxury, Mid Ranged, Budget based on their average price.\n",
    "# Some of the Luxury brans are"
   ]
  },
  {
   "cell_type": "markdown",
   "metadata": {
    "_uuid": "79ee171fe4870fe53fabdd32dc715d078dd13d4a"
   },
   "source": [
    "### Fuel Type"
   ]
  },
  {
   "cell_type": "code",
   "execution_count": null,
   "metadata": {
    "ExecuteTime": {
     "end_time": "2023-02-13T05:05:55.015973Z",
     "start_time": "2023-02-13T05:05:55.014327Z"
    },
    "_uuid": "edd0dfd18a39f98a5ac243d87679462344ddef7b"
   },
   "outputs": [],
   "source": [
    "# Let's see how price varies with  Fuel Type"
   ]
  },
  {
   "cell_type": "code",
   "execution_count": null,
   "metadata": {
    "ExecuteTime": {
     "end_time": "2023-02-13T05:05:55.080040Z",
     "start_time": "2023-02-13T05:05:55.017090Z"
    },
    "_uuid": "17543bde18dff763b5835cf76c84ce83a6a92bdd",
    "scrolled": true
   },
   "outputs": [],
   "source": [
    "df_fuel_avg_price = df[['fueltype','price']].groupby(\"fueltype\", as_index = False).mean().rename(columns={'price':'fuel_avg_price'})\n",
    "plt1 = df_fuel_avg_price.plot(x = 'fueltype', kind='bar',legend = False, sort_columns = True)\n",
    "plt1.set_xlabel(\"Fuel Type\")\n",
    "plt1.set_ylabel(\"Avg Price (Dollars)\")\n",
    "xticks(rotation = 0)\n",
    "plt.show()"
   ]
  },
  {
   "cell_type": "code",
   "execution_count": null,
   "metadata": {
    "ExecuteTime": {
     "end_time": "2023-02-13T05:05:55.083627Z",
     "start_time": "2023-02-13T05:05:55.081304Z"
    },
    "_uuid": "9026167ade0b1618ed9e058d6533de36a7b75665"
   },
   "outputs": [],
   "source": [
    "# Inference\n",
    "# Diesel cars are priced more than gas cars."
   ]
  },
  {
   "cell_type": "markdown",
   "metadata": {
    "_uuid": "fdb0dc0e093623381b1e0f48cbeea6109e3cbfbb"
   },
   "source": [
    "### Aspiration"
   ]
  },
  {
   "cell_type": "code",
   "execution_count": null,
   "metadata": {
    "ExecuteTime": {
     "end_time": "2023-02-13T05:05:55.153867Z",
     "start_time": "2023-02-13T05:05:55.084927Z"
    },
    "_uuid": "e03f1aa41680eb8ef2110a34cbb47bfc771720b3"
   },
   "outputs": [],
   "source": [
    "df_aspir_avg_price = df[['aspiration','price']].groupby(\"aspiration\", as_index = False).mean().rename(columns={'price':'aspir_avg_price'})\n",
    "plt1 = df_aspir_avg_price.plot(x = 'aspiration', kind='bar',legend = False, sort_columns = True)\n",
    "plt1.set_xlabel(\"Aspiration\")\n",
    "plt1.set_ylabel(\"Avg Price (Dollars)\")\n",
    "xticks(rotation = 0)\n",
    "plt.show()"
   ]
  },
  {
   "cell_type": "code",
   "execution_count": null,
   "metadata": {
    "ExecuteTime": {
     "end_time": "2023-02-13T05:05:55.157153Z",
     "start_time": "2023-02-13T05:05:55.155330Z"
    },
    "_uuid": "7f942b1b3f957b90ae5aba89a3b072715d10e994"
   },
   "outputs": [],
   "source": [
    "# Inference\n",
    "# Cars with turbo aspiration engine are priced more than standard ones."
   ]
  },
  {
   "cell_type": "markdown",
   "metadata": {
    "_uuid": "0c94644badb9563debbe35dacea3c8635f6ccbcd"
   },
   "source": [
    "### Door Numbers"
   ]
  },
  {
   "cell_type": "code",
   "execution_count": null,
   "metadata": {
    "ExecuteTime": {
     "end_time": "2023-02-13T05:05:55.225101Z",
     "start_time": "2023-02-13T05:05:55.158321Z"
    },
    "_uuid": "24acc94cb409ebbce36b2c9fba1ecc01e9a1d71f"
   },
   "outputs": [],
   "source": [
    "df_door_avg_price = df[['doornumber','price']].groupby(\"doornumber\", as_index = False).mean().rename(columns={'price':'door_avg_price'})\n",
    "plt1 = df_door_avg_price.plot(x = 'doornumber', kind='bar',legend = False, sort_columns = True)\n",
    "plt1.set_xlabel(\"No of Doors\")\n",
    "plt1.set_ylabel(\"Avg Price (Dollars)\")\n",
    "xticks(rotation = 0)\n",
    "plt.show()"
   ]
  },
  {
   "cell_type": "code",
   "execution_count": null,
   "metadata": {
    "ExecuteTime": {
     "end_time": "2023-02-13T05:05:55.228335Z",
     "start_time": "2023-02-13T05:05:55.226460Z"
    },
    "_uuid": "a7c918e765d7407d4a5917b0438e6d255cca640f"
   },
   "outputs": [],
   "source": [
    "# Inference\n",
    "# Number of doors doesn't seem to have much effect on price."
   ]
  },
  {
   "cell_type": "markdown",
   "metadata": {
    "_uuid": "1c6256ab53ca1200e73427d7996bc0bd86ce2a12"
   },
   "source": [
    "### Car Body"
   ]
  },
  {
   "cell_type": "code",
   "execution_count": null,
   "metadata": {
    "ExecuteTime": {
     "end_time": "2023-02-13T05:05:55.296357Z",
     "start_time": "2023-02-13T05:05:55.230023Z"
    },
    "_uuid": "3d44b527269aa920abe0abaa35556e38b58e12dc",
    "scrolled": true
   },
   "outputs": [],
   "source": [
    "df_body_avg_price = df[['carbody','price']].groupby(\"carbody\", as_index = False).mean().rename(columns={'price':'carbody_avg_price'})\n",
    "plt1 = df_body_avg_price.plot(x = 'carbody', kind='bar',legend = False, sort_columns = True)\n",
    "plt1.set_xlabel(\"Car Body\")\n",
    "plt1.set_ylabel(\"Avg Price (Dollars)\")\n",
    "xticks(rotation = 0)\n",
    "plt.show() "
   ]
  },
  {
   "cell_type": "code",
   "execution_count": null,
   "metadata": {
    "ExecuteTime": {
     "end_time": "2023-02-13T05:05:55.299655Z",
     "start_time": "2023-02-13T05:05:55.297824Z"
    },
    "_uuid": "a6880908b9af8ea09bebebe6708735266d9e3cbb"
   },
   "outputs": [],
   "source": [
    "# Inference \n",
    "# Hardtop and convertible are the most expensive whereas hatchbacks are the cheapest."
   ]
  },
  {
   "cell_type": "markdown",
   "metadata": {
    "_uuid": "1a9066f12495b916ec58525ee1b7aba9ef7eb8bf"
   },
   "source": [
    "### Drivewheel"
   ]
  },
  {
   "cell_type": "code",
   "execution_count": null,
   "metadata": {
    "ExecuteTime": {
     "end_time": "2023-02-13T05:05:55.370595Z",
     "start_time": "2023-02-13T05:05:55.300872Z"
    },
    "_uuid": "21711cb8f9791f6c54bce253ab404a513cbad64f"
   },
   "outputs": [],
   "source": [
    "df_drivewheel_avg_price = df[['drivewheel','price']].groupby(\"drivewheel\", as_index = False).mean().rename(columns={'price':'drivewheel_avg_price'})\n",
    "plt1 = df_drivewheel_avg_price.plot(x = 'drivewheel', kind='bar', sort_columns = True,legend = False,)\n",
    "plt1.set_xlabel(\"Drive Wheel Type\")\n",
    "plt1.set_ylabel(\"Avg Price (Dollars)\")\n",
    "xticks(rotation = 0)\n",
    "plt.show()"
   ]
  },
  {
   "cell_type": "code",
   "execution_count": null,
   "metadata": {
    "ExecuteTime": {
     "end_time": "2023-02-13T05:05:55.373858Z",
     "start_time": "2023-02-13T05:05:55.372029Z"
    },
    "_uuid": "0ef73c5d98ec3e9b928c81f1bd60ccc130d87bc9"
   },
   "outputs": [],
   "source": [
    "# Inference\n",
    "# Cars with Rear wheel drive have a higher price value."
   ]
  },
  {
   "cell_type": "markdown",
   "metadata": {
    "_uuid": "66409796d13c9a892347ed92f9dfa6670cbd1a01"
   },
   "source": [
    "### Wheel base"
   ]
  },
  {
   "cell_type": "code",
   "execution_count": null,
   "metadata": {
    "ExecuteTime": {
     "end_time": "2023-02-13T05:05:55.458270Z",
     "start_time": "2023-02-13T05:05:55.374932Z"
    },
    "_uuid": "2eca8544c5e43005d77865a5ae263d9a78b68638",
    "scrolled": false
   },
   "outputs": [],
   "source": [
    "plt1 = sns.scatterplot(x = 'wheelbase', y = 'price', data = df)\n",
    "plt1.set_xlabel('Wheelbase (Inches)')\n",
    "plt1.set_ylabel('Price of Car (Dollars)')\n",
    "plt.show()"
   ]
  },
  {
   "cell_type": "code",
   "execution_count": null,
   "metadata": {
    "ExecuteTime": {
     "end_time": "2023-02-13T05:05:55.461101Z",
     "start_time": "2023-02-13T05:05:55.459426Z"
    },
    "_uuid": "a28a0736e11a45ed88b7dbc8c9283de6a97994e9"
   },
   "outputs": [],
   "source": [
    "# Most cars has a wheel base around 95 inches.\n",
    "# Price has a slight positive correlation with wheelbase."
   ]
  },
  {
   "cell_type": "markdown",
   "metadata": {
    "_uuid": "5b8d1e5dcb8963fd8aba561f4d8c43f0cae516b9"
   },
   "source": [
    "## Car Dimensions"
   ]
  },
  {
   "cell_type": "code",
   "execution_count": null,
   "metadata": {
    "ExecuteTime": {
     "end_time": "2023-02-13T05:05:55.464394Z",
     "start_time": "2023-02-13T05:05:55.462029Z"
    },
    "_uuid": "98f16c8503274293d710b51ba738a17cd018c0e0"
   },
   "outputs": [],
   "source": [
    "# Let's see how price varies with Car's length, width,height and weight."
   ]
  },
  {
   "cell_type": "code",
   "execution_count": null,
   "metadata": {
    "ExecuteTime": {
     "end_time": "2023-02-13T05:05:55.822392Z",
     "start_time": "2023-02-13T05:05:55.465510Z"
    },
    "_uuid": "9d7e0aa12c76e0203fede5ca44b7c7f3a235722a"
   },
   "outputs": [],
   "source": [
    "fig, axs = plt.subplots(2,2,figsize=(15,10))\n",
    "plt1 = sns.scatterplot(x = 'carlength', y = 'price', data = df, ax = axs[0,0])\n",
    "plt1.set_xlabel('Length of Car (Inches)')\n",
    "plt1.set_ylabel('Price of Car (Dollars)')\n",
    "plt2 = sns.scatterplot(x = 'carwidth', y = 'price', data = df, ax = axs[0,1])\n",
    "plt2.set_xlabel('Width of Car (Inches)')\n",
    "plt2.set_ylabel('Price of Car (Dollars)')\n",
    "plt3 = sns.scatterplot(x = 'carheight', y = 'price', data = df, ax = axs[1,0])\n",
    "plt3.set_xlabel('Height of Car (Inches)')\n",
    "plt3.set_ylabel('Price of Car (Dollars)')\n",
    "plt3 = sns.scatterplot(x = 'curbweight', y = 'price', data = df, ax = axs[1,1])\n",
    "plt3.set_xlabel('Weight of Car (Pounds)')\n",
    "plt3.set_ylabel('Price of Car (Dollars)')\n",
    "plt.tight_layout()"
   ]
  },
  {
   "cell_type": "code",
   "execution_count": null,
   "metadata": {
    "ExecuteTime": {
     "end_time": "2023-02-13T05:05:55.825854Z",
     "start_time": "2023-02-13T05:05:55.823531Z"
    },
    "_uuid": "1fab8be0d0342d8c651d46a7abd0726a4caa3205"
   },
   "outputs": [],
   "source": [
    "# Inference\n",
    "# Length width and weight of the car is positively related with the price.\n",
    "# There is not much of a correlation with Height of the car with price."
   ]
  },
  {
   "cell_type": "markdown",
   "metadata": {
    "_uuid": "cc5afd71aafb078404b52e8558c2eb2aa5d1bafb"
   },
   "source": [
    "## Engine Specifications"
   ]
  },
  {
   "cell_type": "markdown",
   "metadata": {
    "_uuid": "bbdfc5f3f09f3f95e5613d1783160cf864a6d9cf"
   },
   "source": [
    "### Engine Type, Cylinder, Fuel System"
   ]
  },
  {
   "cell_type": "code",
   "execution_count": null,
   "metadata": {
    "ExecuteTime": {
     "end_time": "2023-02-13T05:05:56.029540Z",
     "start_time": "2023-02-13T05:05:55.826961Z"
    },
    "_uuid": "c0d5153434ea955769ab55e2bf958d2f4693ba3e",
    "scrolled": false
   },
   "outputs": [],
   "source": [
    "fig, axs = plt.subplots(1,3,figsize=(20,5))\n",
    "#\n",
    "df_engine_avg_price = df[['enginetype','price']].groupby(\"enginetype\", as_index = False).mean().rename(columns={'price':'engine_avg_price'})\n",
    "plt1 = df_engine_avg_price.plot(x = 'enginetype', kind='bar', sort_columns = True, legend = False, ax = axs[0])\n",
    "plt1.set_xlabel(\"Engine Type\")\n",
    "plt1.set_ylabel(\"Avg Price (Dollars)\")\n",
    "xticks(rotation = 0)\n",
    "#\n",
    "df_cylindernumber_avg_price = df[['cylindernumber','price']].groupby(\"cylindernumber\", as_index = False).mean().rename(columns={'price':'cylindernumber_avg_price'})\n",
    "plt1 = df_cylindernumber_avg_price.plot(x = 'cylindernumber', kind='bar', sort_columns = True,legend = False, ax = axs[1])\n",
    "plt1.set_xlabel(\"Cylinder Number\")\n",
    "plt1.set_ylabel(\"Avg Price (Dollars)\")\n",
    "xticks(rotation = 0)\n",
    "#\n",
    "df_fuelsystem_avg_price = df[['fuelsystem','price']].groupby(\"fuelsystem\", as_index = False).mean().rename(columns={'price':'fuelsystem_avg_price'})\n",
    "plt1 = df_fuelsystem_avg_price.plot(x = 'fuelsystem', kind='bar', sort_columns = True,legend = False, ax = axs[2])\n",
    "plt1.set_xlabel(\"Fuel System\")\n",
    "plt1.set_ylabel(\"Avg Price (Dollars)\")\n",
    "xticks(rotation = 0)\n",
    "plt.show()"
   ]
  },
  {
   "cell_type": "code",
   "execution_count": null,
   "metadata": {
    "ExecuteTime": {
     "end_time": "2023-02-13T05:05:56.032542Z",
     "start_time": "2023-02-13T05:05:56.030804Z"
    },
    "_uuid": "db41e1d14d24d3c01af5902b1b8f21a8f6c168d6"
   },
   "outputs": [],
   "source": [
    "# Inference\n",
    "# DOHCV and OHCV engine types are priced high.\n",
    "# Eight and twelve cylinder cars have higher price.\n",
    "# IDI and MPFI fuel system have higher price.\n"
   ]
  },
  {
   "cell_type": "markdown",
   "metadata": {
    "_uuid": "e36f02b89a428cddd39600bb62a8ffcdd1655cb2"
   },
   "source": [
    "### Engine Size, Bore Ratio, Stroke, Horsepower & Compression Ratio"
   ]
  },
  {
   "cell_type": "code",
   "execution_count": null,
   "metadata": {
    "ExecuteTime": {
     "end_time": "2023-02-13T05:05:56.594702Z",
     "start_time": "2023-02-13T05:05:56.033757Z"
    },
    "_uuid": "a8bb1effde02ec515811a2d2247c69ce1da326b1"
   },
   "outputs": [],
   "source": [
    "fig, axs = plt.subplots(3,2,figsize=(20,20))\n",
    "#\n",
    "plt1 = sns.scatterplot(x = 'enginesize', y = 'price', data = df, ax = axs[0,0])\n",
    "plt1.set_xlabel('Size of Engine (Cubic Inches)')\n",
    "plt1.set_ylabel('Price of Car (Dollars)')\n",
    "#\n",
    "plt2 = sns.scatterplot(x = 'boreratio', y = 'price', data = df, ax = axs[0,1])\n",
    "plt2.set_xlabel('Bore Ratio')\n",
    "plt2.set_ylabel('Price of Car (Dollars)')\n",
    "#\n",
    "plt3 = sns.scatterplot(x = 'stroke', y = 'price', data = df, ax = axs[1,0])\n",
    "plt3.set_xlabel('Stroke')\n",
    "plt3.set_ylabel('Price of Car (Dollars)')\n",
    "#\n",
    "plt4 = sns.scatterplot(x = 'compressionratio', y = 'price', data = df, ax = axs[1,1])\n",
    "plt4.set_xlabel('Compression Ratio')\n",
    "plt4.set_ylabel('Price of Car (Dollars)')\n",
    "#\n",
    "plt5 = sns.scatterplot(x = 'horsepower', y = 'price', data = df, ax = axs[2,0])\n",
    "plt5.set_xlabel('Horsepower')\n",
    "plt5.set_ylabel('Price of Car (Dollars)')\n",
    "#\n",
    "plt5 = sns.scatterplot(x = 'peakrpm', y = 'price', data = df, ax = axs[2,1])\n",
    "plt5.set_xlabel('Peak RPM')\n",
    "plt5.set_ylabel('Price of Car (Dollars)')\n",
    "plt.tight_layout()\n",
    "plt.show()\n"
   ]
  },
  {
   "cell_type": "code",
   "execution_count": null,
   "metadata": {
    "ExecuteTime": {
     "end_time": "2023-02-13T05:05:56.597216Z",
     "start_time": "2023-02-13T05:05:56.595672Z"
    },
    "_uuid": "f6f04d541ab1ece0f7ea9ca0ad5370a1c7a90be2"
   },
   "outputs": [],
   "source": [
    "# Inference\n",
    "# Size of Engine, bore ratio, and Horsepower has positive correlation with price."
   ]
  },
  {
   "cell_type": "markdown",
   "metadata": {
    "_uuid": "8d7fa59a0e4c7974b544b6cbf9e9455bd4943f09"
   },
   "source": [
    "## City Mileage & Highway Mileage"
   ]
  },
  {
   "cell_type": "code",
   "execution_count": null,
   "metadata": {
    "ExecuteTime": {
     "end_time": "2023-02-13T05:05:56.600505Z",
     "start_time": "2023-02-13T05:05:56.598217Z"
    },
    "_uuid": "7184268d6aab1e8316026092bf4de55cdd692532"
   },
   "outputs": [],
   "source": [
    "# A single variable mileage can be calculated taking the weighted average of 55% city and 45% highways."
   ]
  },
  {
   "cell_type": "code",
   "execution_count": null,
   "metadata": {
    "ExecuteTime": {
     "end_time": "2023-02-13T05:05:56.604125Z",
     "start_time": "2023-02-13T05:05:56.601689Z"
    },
    "_uuid": "6e97fd367f7ff00a06aec6adf22419427f859b52"
   },
   "outputs": [],
   "source": [
    "df['mileage'] = df['citympg']*0.55 + df['highwaympg']*0.45"
   ]
  },
  {
   "cell_type": "code",
   "execution_count": null,
   "metadata": {
    "ExecuteTime": {
     "end_time": "2023-02-13T05:05:56.607103Z",
     "start_time": "2023-02-13T05:05:56.605304Z"
    },
    "_uuid": "3de7998677637bf57ecbeb8e62e25deede8745d1"
   },
   "outputs": [],
   "source": [
    "# Let's see how price varies with mileage."
   ]
  },
  {
   "cell_type": "code",
   "execution_count": null,
   "metadata": {
    "ExecuteTime": {
     "end_time": "2023-02-13T05:05:56.690047Z",
     "start_time": "2023-02-13T05:05:56.608076Z"
    },
    "_uuid": "464a12fb019e532edd96d8e136f543e02ffbd8e9",
    "scrolled": true
   },
   "outputs": [],
   "source": [
    "plt1 = sns.scatterplot(x = 'mileage', y = 'price', data = df)\n",
    "plt1.set_xlabel('Mileage')\n",
    "plt1.set_ylabel('Price of Car (Dollars)')\n",
    "plt.show()"
   ]
  },
  {
   "cell_type": "code",
   "execution_count": null,
   "metadata": {
    "ExecuteTime": {
     "end_time": "2023-02-13T05:05:56.693138Z",
     "start_time": "2023-02-13T05:05:56.691465Z"
    },
    "_uuid": "ea7af5a16130193e941e7241d8d7ec6776694885"
   },
   "outputs": [],
   "source": [
    "# Inference \n",
    "# Mileage has a negative correlation with price."
   ]
  },
  {
   "cell_type": "markdown",
   "metadata": {
    "_uuid": "393cd2cfa9264c498438356f49cf93205079ca85"
   },
   "source": [
    "## Bivariate Analysis"
   ]
  },
  {
   "cell_type": "markdown",
   "metadata": {
    "_uuid": "5945a3b6a4b7cf4143aa675ea9959f0e589c5956"
   },
   "source": [
    "### Brand Category - Mileage"
   ]
  },
  {
   "cell_type": "code",
   "execution_count": null,
   "metadata": {
    "ExecuteTime": {
     "end_time": "2023-02-13T05:05:56.696387Z",
     "start_time": "2023-02-13T05:05:56.694507Z"
    },
    "_uuid": "e54796ce9f5e6eadb8778135f74e88953d8c1ae9"
   },
   "outputs": [],
   "source": [
    "# It is expected that luxury brands don't care about mileage. Let's find out how price varies with brand category and mileage."
   ]
  },
  {
   "cell_type": "code",
   "execution_count": null,
   "metadata": {
    "ExecuteTime": {
     "end_time": "2023-02-13T05:05:56.813207Z",
     "start_time": "2023-02-13T05:05:56.698066Z"
    },
    "_uuid": "e14c12605c458013a7a1fc221ade60e5ed8e93c3",
    "scrolled": false
   },
   "outputs": [],
   "source": [
    "plt1 = sns.scatterplot(x = 'mileage', y = 'price', hue = 'brand_category', data = df)\n",
    "plt1.set_xlabel('Mileage')\n",
    "plt1.set_ylabel('Price of Car (Dollars)')\n",
    "plt.show()"
   ]
  },
  {
   "cell_type": "markdown",
   "metadata": {
    "_uuid": "e788ce4fbc3c72fdcdac0c01f0d9467e93d40a1d"
   },
   "source": [
    "### Brand Category - Horsepower"
   ]
  },
  {
   "cell_type": "code",
   "execution_count": null,
   "metadata": {
    "ExecuteTime": {
     "end_time": "2023-02-13T05:05:56.927210Z",
     "start_time": "2023-02-13T05:05:56.814293Z"
    },
    "_uuid": "14ee0cb40aa01b26e05188b097903604fc155e62",
    "scrolled": true
   },
   "outputs": [],
   "source": [
    "plt1 = sns.scatterplot(x = 'horsepower', y = 'price', hue = 'brand_category', data = df)\n",
    "plt1.set_xlabel('Horsepower')\n",
    "plt1.set_ylabel('Price of Car (Dollars)')\n",
    "plt.show()"
   ]
  },
  {
   "cell_type": "markdown",
   "metadata": {
    "_uuid": "32a0bf2de14e88ffcf6dd68aa7c5dff8d1641ad0"
   },
   "source": [
    "### Mileage - Fuel Type"
   ]
  },
  {
   "cell_type": "code",
   "execution_count": null,
   "metadata": {
    "ExecuteTime": {
     "end_time": "2023-02-13T05:05:57.035655Z",
     "start_time": "2023-02-13T05:05:56.928321Z"
    },
    "_uuid": "22013628c344eff3b1efabc13c7d087637ff761b",
    "scrolled": true
   },
   "outputs": [],
   "source": [
    "plt1 = sns.scatterplot(x = 'mileage', y = 'price', hue = 'fueltype', data = df)\n",
    "plt1.set_xlabel('Mileage')\n",
    "plt1.set_ylabel('Price of Car (Dollars)')\n",
    "plt.show()"
   ]
  },
  {
   "cell_type": "markdown",
   "metadata": {
    "_uuid": "72364824a2e40743817eb3dd6b7e01584964cc76"
   },
   "source": [
    "### Horsepower - Fuel Type"
   ]
  },
  {
   "cell_type": "code",
   "execution_count": null,
   "metadata": {
    "ExecuteTime": {
     "end_time": "2023-02-13T05:05:57.138030Z",
     "start_time": "2023-02-13T05:05:57.036834Z"
    },
    "_uuid": "1b3f9ed4a6bc9d23ae3a00a246cdb4fbeecc9636",
    "scrolled": true
   },
   "outputs": [],
   "source": [
    "plt1 = sns.scatterplot(x = 'horsepower', y = 'price', hue = 'fueltype', data = df)\n",
    "plt1.set_xlabel('Horsepower')\n",
    "plt1.set_ylabel('Price of Car (Dollars)')\n",
    "plt.show()"
   ]
  },
  {
   "cell_type": "markdown",
   "metadata": {
    "_uuid": "a7d16d59c1ad33df11d1cde65bd40b088cd91369"
   },
   "source": [
    "## Summary Univariate and Bivriate Analysis:\n",
    "__From the above Univariate and bivariate analysis we can filter out variables which does not affect price much.__ <br>\n",
    "__The most important driver variable for prediction of price are:-__\n",
    "1. Brand Category\n",
    "2. Fuel Type\n",
    "3. Aspiration\n",
    "4. Car Body\n",
    "5. Drive Wheel\n",
    "6. Wheelbase\n",
    "7. Car Length\n",
    "8. Car Width\n",
    "9. Curb weight\n",
    "10. Engine Type\n",
    "11. Cylinder Number\n",
    "12. Engine Size\n",
    "13. Bore Ratio\n",
    "14. Horsepower\n",
    "15. Mileage\n"
   ]
  },
  {
   "cell_type": "markdown",
   "metadata": {
    "_uuid": "2453455e353b57cb7b3b01e2148c8a6914378190"
   },
   "source": [
    "# Linear Regression Model"
   ]
  },
  {
   "cell_type": "code",
   "execution_count": null,
   "metadata": {
    "ExecuteTime": {
     "end_time": "2023-02-13T05:05:57.142270Z",
     "start_time": "2023-02-13T05:05:57.139318Z"
    },
    "_uuid": "518227f153e925dcec145e30aec2475413c68a4d"
   },
   "outputs": [],
   "source": [
    "auto = df[['fueltype', 'aspiration', 'carbody', 'drivewheel', 'wheelbase', 'carlength', 'carwidth', 'curbweight', 'enginetype',\n",
    "       'cylindernumber', 'enginesize',  'boreratio', 'horsepower', 'price', 'brand_category', 'mileage']]"
   ]
  },
  {
   "cell_type": "code",
   "execution_count": null,
   "metadata": {
    "ExecuteTime": {
     "end_time": "2023-02-13T05:05:57.152914Z",
     "start_time": "2023-02-13T05:05:57.143391Z"
    },
    "_uuid": "0aea76ea7884aa7835193b4774f97190938204e5"
   },
   "outputs": [],
   "source": [
    "auto.head()"
   ]
  },
  {
   "cell_type": "markdown",
   "metadata": {
    "_uuid": "174208d0a96d3fc8d2048d25de40d5c0c4004aa6"
   },
   "source": [
    "## Visualising the Data"
   ]
  },
  {
   "cell_type": "markdown",
   "metadata": {
    "_uuid": "3120e40cf2274844caa523ef9889dd9444428ae3"
   },
   "source": [
    "### Visualising Numeric Variables\n",
    "\n",
    "Let's make a pairplot of all the numeric variables"
   ]
  },
  {
   "cell_type": "code",
   "execution_count": null,
   "metadata": {
    "ExecuteTime": {
     "end_time": "2023-02-13T05:06:03.150902Z",
     "start_time": "2023-02-13T05:05:57.153918Z"
    },
    "_uuid": "278f9b1ebc6637ccd6b096a030d322c83cefac41"
   },
   "outputs": [],
   "source": [
    "plt.figure(figsize=(15, 15))\n",
    "sns.pairplot(auto)\n",
    "plt.show()"
   ]
  },
  {
   "cell_type": "markdown",
   "metadata": {
    "_uuid": "82b3b87a0181d7419b630d2c13d691097270776c"
   },
   "source": [
    "### Visualising Categorical Variables\n",
    "\n",
    "Let's make a boxplot for categorical variables."
   ]
  },
  {
   "cell_type": "code",
   "execution_count": null,
   "metadata": {
    "ExecuteTime": {
     "end_time": "2023-02-13T05:06:03.702334Z",
     "start_time": "2023-02-13T05:06:03.151931Z"
    },
    "_uuid": "6d6bb196e183acdb2534a74aad33ad25e761dfea"
   },
   "outputs": [],
   "source": [
    "plt.figure(figsize=(10, 20))\n",
    "plt.subplot(4,2,1)\n",
    "sns.boxplot(x = 'fueltype', y = 'price', data = auto)\n",
    "plt.subplot(4,2,2)\n",
    "sns.boxplot(x = 'aspiration', y = 'price', data = auto)\n",
    "plt.subplot(4,2,3)\n",
    "sns.boxplot(x = 'carbody', y = 'price', data = auto)\n",
    "plt.subplot(4,2,4)\n",
    "sns.boxplot(x = 'drivewheel', y = 'price', data = auto)\n",
    "plt.subplot(4,2,5)\n",
    "sns.boxplot(x = 'enginetype', y = 'price', data = auto)\n",
    "plt.subplot(4,2,6)\n",
    "sns.boxplot(x = 'brand_category', y = 'price', data = auto)\n",
    "plt.subplot(4,2,7)\n",
    "sns.boxplot(x = 'cylindernumber', y = 'price', data = auto)\n",
    "plt.tight_layout()\n",
    "plt.show()\n"
   ]
  },
  {
   "cell_type": "markdown",
   "metadata": {
    "_uuid": "4d5bef89a2b923ad1bf8271711242d43233bd0d5"
   },
   "source": [
    "## Data Preparation"
   ]
  },
  {
   "cell_type": "markdown",
   "metadata": {
    "_uuid": "b618b691a020fe96e095a5c8e3e1a7965272a889"
   },
   "source": [
    "### Dummy Variables"
   ]
  },
  {
   "cell_type": "code",
   "execution_count": null,
   "metadata": {
    "ExecuteTime": {
     "end_time": "2023-02-13T05:06:03.705053Z",
     "start_time": "2023-02-13T05:06:03.703337Z"
    },
    "_uuid": "c60fc0c4aab27a636ddd386d2a164adef8b6f825"
   },
   "outputs": [],
   "source": [
    "# Categorical Variables are converted into Neumerical Variables with the help of Dummy Variable "
   ]
  },
  {
   "cell_type": "code",
   "execution_count": null,
   "metadata": {
    "ExecuteTime": {
     "end_time": "2023-02-13T05:06:03.708609Z",
     "start_time": "2023-02-13T05:06:03.705967Z"
    },
    "_uuid": "988169a61e779fdc73c001b7b014e09d4ac90ff6"
   },
   "outputs": [],
   "source": [
    "cyl_no = pd.get_dummies(auto['cylindernumber'], drop_first = True)"
   ]
  },
  {
   "cell_type": "code",
   "execution_count": null,
   "metadata": {
    "ExecuteTime": {
     "end_time": "2023-02-13T05:06:03.711950Z",
     "start_time": "2023-02-13T05:06:03.709543Z"
    },
    "_uuid": "89eca6a2e873381ca7d5534e9fdb20f8975dd2ab"
   },
   "outputs": [],
   "source": [
    "auto = pd.concat([auto, cyl_no], axis = 1)"
   ]
  },
  {
   "cell_type": "code",
   "execution_count": null,
   "metadata": {
    "ExecuteTime": {
     "end_time": "2023-02-13T05:06:03.715506Z",
     "start_time": "2023-02-13T05:06:03.713122Z"
    },
    "_uuid": "b4ad7a8ee1f0ec674a5b5d6b9dc2809a6b12e28c"
   },
   "outputs": [],
   "source": [
    "brand_cat = pd.get_dummies(auto['brand_category'], drop_first = True)"
   ]
  },
  {
   "cell_type": "code",
   "execution_count": null,
   "metadata": {
    "ExecuteTime": {
     "end_time": "2023-02-13T05:06:03.718933Z",
     "start_time": "2023-02-13T05:06:03.716540Z"
    },
    "_uuid": "2802fda4ae5ef23f0b50a3d7a2a2e59039f3f23b"
   },
   "outputs": [],
   "source": [
    "auto = pd.concat([auto, brand_cat], axis = 1)"
   ]
  },
  {
   "cell_type": "code",
   "execution_count": null,
   "metadata": {
    "ExecuteTime": {
     "end_time": "2023-02-13T05:06:03.722722Z",
     "start_time": "2023-02-13T05:06:03.720146Z"
    },
    "_uuid": "6f206cfa55513d91f9b07fdbdff9c4de16e0ef3c"
   },
   "outputs": [],
   "source": [
    "eng_typ = pd.get_dummies(auto['enginetype'], drop_first = True)"
   ]
  },
  {
   "cell_type": "code",
   "execution_count": null,
   "metadata": {
    "ExecuteTime": {
     "end_time": "2023-02-13T05:06:03.728066Z",
     "start_time": "2023-02-13T05:06:03.723922Z"
    },
    "_uuid": "30db541372ea7362662e456f6c4c52374c8eaaf5"
   },
   "outputs": [],
   "source": [
    "auto = pd.concat([auto, eng_typ], axis = 1)"
   ]
  },
  {
   "cell_type": "code",
   "execution_count": null,
   "metadata": {
    "ExecuteTime": {
     "end_time": "2023-02-13T05:06:03.732740Z",
     "start_time": "2023-02-13T05:06:03.730025Z"
    },
    "_uuid": "0ef2dc5d660ef9096c99ac535bce6a742387f942"
   },
   "outputs": [],
   "source": [
    "drwh = pd.get_dummies(auto['drivewheel'], drop_first = True)"
   ]
  },
  {
   "cell_type": "code",
   "execution_count": null,
   "metadata": {
    "ExecuteTime": {
     "end_time": "2023-02-13T05:06:03.736289Z",
     "start_time": "2023-02-13T05:06:03.733729Z"
    },
    "_uuid": "752687fe8062cfbf6a32916b06cd76e5d4aa537c"
   },
   "outputs": [],
   "source": [
    "auto = pd.concat([auto, drwh], axis = 1)"
   ]
  },
  {
   "cell_type": "code",
   "execution_count": null,
   "metadata": {
    "ExecuteTime": {
     "end_time": "2023-02-13T05:06:03.740312Z",
     "start_time": "2023-02-13T05:06:03.737456Z"
    },
    "_uuid": "c8252b405ab4a1d77f91a897ececf43a56b91e0a"
   },
   "outputs": [],
   "source": [
    "carb = pd.get_dummies(auto['carbody'], drop_first = True)"
   ]
  },
  {
   "cell_type": "code",
   "execution_count": null,
   "metadata": {
    "ExecuteTime": {
     "end_time": "2023-02-13T05:06:03.758700Z",
     "start_time": "2023-02-13T05:06:03.756021Z"
    },
    "_uuid": "bdcd4c0ab0445224d5297c9c80b18889ab62bbd1"
   },
   "outputs": [],
   "source": [
    "auto = pd.concat([auto, carb], axis = 1)"
   ]
  },
  {
   "cell_type": "code",
   "execution_count": null,
   "metadata": {
    "ExecuteTime": {
     "end_time": "2023-02-13T05:06:03.762546Z",
     "start_time": "2023-02-13T05:06:03.759958Z"
    },
    "_uuid": "1befd808e3331fd41e157c4b387cc76e6eb99cbe"
   },
   "outputs": [],
   "source": [
    "asp = pd.get_dummies(auto['aspiration'], drop_first = True)"
   ]
  },
  {
   "cell_type": "code",
   "execution_count": null,
   "metadata": {
    "ExecuteTime": {
     "end_time": "2023-02-13T05:06:03.766468Z",
     "start_time": "2023-02-13T05:06:03.763753Z"
    },
    "_uuid": "334bf38993e112245d7a78b764d71a31f021915b"
   },
   "outputs": [],
   "source": [
    "auto = pd.concat([auto, asp], axis = 1)"
   ]
  },
  {
   "cell_type": "code",
   "execution_count": null,
   "metadata": {
    "ExecuteTime": {
     "end_time": "2023-02-13T05:06:03.769929Z",
     "start_time": "2023-02-13T05:06:03.767572Z"
    },
    "_uuid": "ac6f92134b8b09dfad3a56ed3d2affe4f219ea61"
   },
   "outputs": [],
   "source": [
    "fuelt = pd.get_dummies(auto['fueltype'], drop_first = True)"
   ]
  },
  {
   "cell_type": "code",
   "execution_count": null,
   "metadata": {
    "ExecuteTime": {
     "end_time": "2023-02-13T05:06:03.773931Z",
     "start_time": "2023-02-13T05:06:03.771100Z"
    },
    "_uuid": "7dcb6a8cf4be8dad99e4f7a42a5d2ad61f880ed3"
   },
   "outputs": [],
   "source": [
    "auto = pd.concat([auto, fuelt], axis = 1)"
   ]
  },
  {
   "cell_type": "code",
   "execution_count": null,
   "metadata": {
    "ExecuteTime": {
     "end_time": "2023-02-13T05:06:03.778716Z",
     "start_time": "2023-02-13T05:06:03.775301Z"
    },
    "_uuid": "795460beab3c38ee4365afff9febc3115894b34b"
   },
   "outputs": [],
   "source": [
    "auto.drop(['fueltype', 'aspiration', 'carbody', 'drivewheel', 'enginetype', 'cylindernumber','brand_category'], axis = 1, inplace = True)"
   ]
  },
  {
   "cell_type": "markdown",
   "metadata": {
    "_uuid": "eca2b06ab77b6786f99d5a64b3a638964e096ba6"
   },
   "source": [
    "## Model Building"
   ]
  },
  {
   "cell_type": "markdown",
   "metadata": {
    "_uuid": "4551948766afe896cd61f3cd4b81ef3990dd667f"
   },
   "source": [
    "## Splitting the Data into Training and Testing sets"
   ]
  },
  {
   "cell_type": "code",
   "execution_count": null,
   "metadata": {
    "ExecuteTime": {
     "end_time": "2023-02-13T05:06:04.025611Z",
     "start_time": "2023-02-13T05:06:03.780024Z"
    },
    "_uuid": "22f0608f90ce8da1e442bb6ce2ce6aff31dcfed7"
   },
   "outputs": [],
   "source": [
    "from sklearn.model_selection import train_test_split\n",
    "\n",
    "# We specify this so that the train and test data set always have the same rows, respectively\n",
    "np.random.seed(0)\n",
    "df_train, df_test = train_test_split(auto, train_size = 0.7, test_size = 0.3, random_state = 100)"
   ]
  },
  {
   "cell_type": "markdown",
   "metadata": {
    "_uuid": "c2c799c7d5c05124b7ce179a94c9c330d571d63a"
   },
   "source": [
    "### Rescaling the Features"
   ]
  },
  {
   "cell_type": "code",
   "execution_count": null,
   "metadata": {
    "ExecuteTime": {
     "end_time": "2023-02-13T05:06:04.028362Z",
     "start_time": "2023-02-13T05:06:04.026591Z"
    },
    "_uuid": "f4a29ea804efb6193b9e5d9f3aa62058ee50d6ab"
   },
   "outputs": [],
   "source": [
    "# We will use min-max scaling"
   ]
  },
  {
   "cell_type": "code",
   "execution_count": null,
   "metadata": {
    "ExecuteTime": {
     "end_time": "2023-02-13T05:06:04.031269Z",
     "start_time": "2023-02-13T05:06:04.029353Z"
    },
    "_uuid": "f29b7b04a073e0855cd4e59e10b1174dba6bd2eb"
   },
   "outputs": [],
   "source": [
    "from sklearn.preprocessing import MinMaxScaler"
   ]
  },
  {
   "cell_type": "code",
   "execution_count": null,
   "metadata": {
    "ExecuteTime": {
     "end_time": "2023-02-13T05:06:04.034341Z",
     "start_time": "2023-02-13T05:06:04.032502Z"
    },
    "_uuid": "d0163dc9b9196a1581ba852539454b7ff6a9b589"
   },
   "outputs": [],
   "source": [
    "scaler = MinMaxScaler()"
   ]
  },
  {
   "cell_type": "code",
   "execution_count": null,
   "metadata": {
    "ExecuteTime": {
     "end_time": "2023-02-13T05:06:04.041071Z",
     "start_time": "2023-02-13T05:06:04.035339Z"
    },
    "_uuid": "f8011bbcc4cbc888954070701206087a0e3f0baf"
   },
   "outputs": [],
   "source": [
    "# Apply scaler() to all the columns except the 'dummy' variables\n",
    "num_vars = ['wheelbase', 'carlength', 'carwidth', 'curbweight', 'enginesize','boreratio', 'horsepower', 'price','mileage']\n",
    "\n",
    "df_train[num_vars] = scaler.fit_transform(df_train[num_vars])"
   ]
  },
  {
   "cell_type": "code",
   "execution_count": null,
   "metadata": {
    "ExecuteTime": {
     "end_time": "2023-02-13T05:06:04.051961Z",
     "start_time": "2023-02-13T05:06:04.042195Z"
    },
    "_uuid": "762e572dd2905754f85b2ff33145970bf5cc5af4"
   },
   "outputs": [],
   "source": [
    "df_train.head()"
   ]
  },
  {
   "cell_type": "code",
   "execution_count": null,
   "metadata": {
    "ExecuteTime": {
     "end_time": "2023-02-13T05:06:04.221216Z",
     "start_time": "2023-02-13T05:06:04.052934Z"
    },
    "_uuid": "5698e70a2970476e7da066cb252df8b5806c36b5"
   },
   "outputs": [],
   "source": [
    "df_train.describe()"
   ]
  },
  {
   "cell_type": "code",
   "execution_count": null,
   "metadata": {
    "ExecuteTime": {
     "end_time": "2023-02-13T05:06:05.766328Z",
     "start_time": "2023-02-13T05:06:04.222389Z"
    },
    "_uuid": "9eb1ebe783e91d3e43556d63762f3504b8e33d73"
   },
   "outputs": [],
   "source": [
    "# Let's check the correlation coefficients to see which variables are highly correlated\n",
    "\n",
    "plt.figure(figsize = (16, 10))\n",
    "sns.heatmap(df_train.corr(), annot = True, cmap=\"YlGnBu\")\n",
    "plt.show()"
   ]
  },
  {
   "cell_type": "markdown",
   "metadata": {
    "_uuid": "eae3618167e44cbe4fa49891ed5283064edc4253"
   },
   "source": [
    "### Dividing into X and Y sets for the model building"
   ]
  },
  {
   "cell_type": "code",
   "execution_count": null,
   "metadata": {
    "ExecuteTime": {
     "end_time": "2023-02-13T05:06:05.769499Z",
     "start_time": "2023-02-13T05:06:05.767308Z"
    },
    "_uuid": "63f68bf958cf9467bef91abdf57db101b8c4d1cd"
   },
   "outputs": [],
   "source": [
    "y_train = df_train.pop('price')\n",
    "X_train = df_train"
   ]
  },
  {
   "cell_type": "markdown",
   "metadata": {
    "_uuid": "e30ca8c2b94ab5adfddef81e2335d5f9558793ef"
   },
   "source": [
    "### RFE\n",
    "Recursive feature elimination"
   ]
  },
  {
   "cell_type": "code",
   "execution_count": null,
   "metadata": {
    "ExecuteTime": {
     "end_time": "2023-02-13T05:06:06.055741Z",
     "start_time": "2023-02-13T05:06:05.770506Z"
    },
    "_uuid": "8a97a34d49006f22b9ed93df5c5f35574d89c644"
   },
   "outputs": [],
   "source": [
    "# Importing RFE and LinearRegression\n",
    "from sklearn.feature_selection import RFE\n",
    "from sklearn.linear_model import LinearRegression"
   ]
  },
  {
   "cell_type": "code",
   "execution_count": null,
   "metadata": {
    "ExecuteTime": {
     "end_time": "2023-02-13T05:06:06.081764Z",
     "start_time": "2023-02-13T05:06:06.056826Z"
    },
    "_uuid": "db4be43198cd68c106fad19dd600a06ff9ece0f5"
   },
   "outputs": [],
   "source": [
    "# Running RFE with the output number of the variable equal to 10\n",
    "lm = LinearRegression()\n",
    "lm.fit(X_train, y_train)\n",
    "\n",
    "rfe = RFE(lm, 10)             # running RFE\n",
    "rfe = rfe.fit(X_train, y_train)"
   ]
  },
  {
   "cell_type": "code",
   "execution_count": null,
   "metadata": {
    "ExecuteTime": {
     "end_time": "2023-02-13T05:06:06.089409Z",
     "start_time": "2023-02-13T05:06:06.083478Z"
    },
    "_uuid": "0a32ddeb09663d978259610ab03471707d55833c"
   },
   "outputs": [],
   "source": [
    "list(zip(X_train.columns,rfe.support_,rfe.ranking_))"
   ]
  },
  {
   "cell_type": "code",
   "execution_count": null,
   "metadata": {
    "ExecuteTime": {
     "end_time": "2023-02-13T05:06:06.094796Z",
     "start_time": "2023-02-13T05:06:06.091105Z"
    },
    "_uuid": "eb46098a21e9457b42b73e77e5c56fcf4097e4c5"
   },
   "outputs": [],
   "source": [
    "col = X_train.columns[rfe.support_]\n",
    "col"
   ]
  },
  {
   "cell_type": "markdown",
   "metadata": {
    "_uuid": "a49de5802dd65369d7d4bf1bb092dbfca4019abb"
   },
   "source": [
    "### Building model using statsmodel, for the detailed statistics"
   ]
  },
  {
   "cell_type": "code",
   "execution_count": null,
   "metadata": {
    "ExecuteTime": {
     "end_time": "2023-02-13T05:06:06.098649Z",
     "start_time": "2023-02-13T05:06:06.095878Z"
    },
    "_uuid": "4c8c09113e89f149a03f76719a4978da271ecf54"
   },
   "outputs": [],
   "source": [
    "# Creating X_test dataframe with RFE selected variables\n",
    "X_train_rfe = X_train[col]"
   ]
  },
  {
   "cell_type": "code",
   "execution_count": null,
   "metadata": {
    "ExecuteTime": {
     "end_time": "2023-02-13T05:06:06.943395Z",
     "start_time": "2023-02-13T05:06:06.099892Z"
    },
    "_uuid": "ab7018d9a5e76967f3921bf0bb2ab1a88deb1c0b"
   },
   "outputs": [],
   "source": [
    "# Adding a constant variable \n",
    "import statsmodels.api as sm  \n",
    "X_train_rfe = sm.add_constant(X_train_rfe)"
   ]
  },
  {
   "cell_type": "code",
   "execution_count": null,
   "metadata": {
    "ExecuteTime": {
     "end_time": "2023-02-13T05:06:06.950368Z",
     "start_time": "2023-02-13T05:06:06.944448Z"
    },
    "_uuid": "b56c6a85728c5d5c1ad2df16a1351d5e80c87a0b"
   },
   "outputs": [],
   "source": [
    "lm = sm.OLS(y_train,X_train_rfe).fit()   # Running the linear model"
   ]
  },
  {
   "cell_type": "code",
   "execution_count": null,
   "metadata": {
    "ExecuteTime": {
     "end_time": "2023-02-13T05:06:06.964745Z",
     "start_time": "2023-02-13T05:06:06.951925Z"
    },
    "_uuid": "937f90d3df553544c34c7b4ee3c39fd43fad3383"
   },
   "outputs": [],
   "source": [
    "#Let's see the summary of our linear model\n",
    "print(lm.summary())"
   ]
  },
  {
   "cell_type": "code",
   "execution_count": null,
   "metadata": {
    "ExecuteTime": {
     "end_time": "2023-02-13T05:06:06.990868Z",
     "start_time": "2023-02-13T05:06:06.966379Z"
    },
    "_uuid": "6d24faf74cad5184011c4eba9b31fc78a449d109"
   },
   "outputs": [],
   "source": [
    "# Calculate the VIFs for the new model\n",
    "from statsmodels.stats.outliers_influence import variance_inflation_factor\n",
    "\n",
    "vif = pd.DataFrame()\n",
    "X = X_train_rfe\n",
    "vif['Features'] = X.columns\n",
    "vif['VIF'] = [variance_inflation_factor(X.values, i) for i in range(X.shape[1])]\n",
    "vif['VIF'] = round(vif['VIF'], 2)\n",
    "vif = vif.sort_values(by = \"VIF\", ascending = False)\n",
    "vif"
   ]
  },
  {
   "cell_type": "code",
   "execution_count": null,
   "metadata": {
    "ExecuteTime": {
     "end_time": "2023-02-13T05:06:07.007387Z",
     "start_time": "2023-02-13T05:06:06.992653Z"
    },
    "_uuid": "6b7f0354a9daf1b999ddc9a14957660b8ef4ddec"
   },
   "outputs": [],
   "source": [
    "# Dropping curbweight as p-value is high.\n",
    "X_train_new1 = X_train_rfe.drop([\"twelve\"], axis = 1)\n",
    "\n",
    "\n",
    "# Adding a constant variable \n",
    "import statsmodels.api as sm  \n",
    "X_train_lm = sm.add_constant(X_train_new1)\n",
    "\n",
    "lm = sm.OLS(y_train,X_train_lm).fit()   # Running the linear model\n",
    "\n",
    "#Let's see the summary of our linear model\n",
    "print(lm.summary())\n"
   ]
  },
  {
   "cell_type": "code",
   "execution_count": null,
   "metadata": {
    "ExecuteTime": {
     "end_time": "2023-02-13T05:06:07.011867Z",
     "start_time": "2023-02-13T05:06:07.009301Z"
    },
    "_uuid": "924e8c2ae2d3386aaad5679f0ca5e44169cbce8f"
   },
   "outputs": [],
   "source": [
    "# This leaves mileage insignificant."
   ]
  },
  {
   "cell_type": "code",
   "execution_count": null,
   "metadata": {
    "ExecuteTime": {
     "end_time": "2023-02-13T05:06:07.027097Z",
     "start_time": "2023-02-13T05:06:07.013295Z"
    },
    "_uuid": "a9c9328da5592c160f78ec4c99f2ebbf6b1b7f14"
   },
   "outputs": [],
   "source": [
    "# Dropping hardtop as p value is high.\n",
    "X_train_new2 = X_train_new1.drop([\"mileage\"], axis = 1)\n",
    "\n",
    "\n",
    "# Adding a constant variable \n",
    "import statsmodels.api as sm  \n",
    "X_train_lm = sm.add_constant(X_train_new2)\n",
    "\n",
    "lm = sm.OLS(y_train,X_train_lm).fit()   # Running the linear model\n",
    "\n",
    "#Let's see the summary of our linear model\n",
    "print(lm.summary())"
   ]
  },
  {
   "cell_type": "code",
   "execution_count": null,
   "metadata": {
    "ExecuteTime": {
     "end_time": "2023-02-13T05:06:07.048492Z",
     "start_time": "2023-02-13T05:06:07.028532Z"
    },
    "_uuid": "f363503da90e39aff96669d6b1e4ed0438c6d359"
   },
   "outputs": [],
   "source": [
    "# Calculate the VIFs for the new model\n",
    "from statsmodels.stats.outliers_influence import variance_inflation_factor\n",
    "\n",
    "vif = pd.DataFrame()\n",
    "X = X_train_new2\n",
    "vif['Features'] = X.columns\n",
    "vif['VIF'] = [variance_inflation_factor(X.values, i) for i in range(X.shape[1])]\n",
    "vif['VIF'] = round(vif['VIF'], 2)\n",
    "vif = vif.sort_values(by = \"VIF\", ascending = False)\n",
    "vif"
   ]
  },
  {
   "cell_type": "code",
   "execution_count": null,
   "metadata": {
    "ExecuteTime": {
     "end_time": "2023-02-13T05:06:07.064217Z",
     "start_time": "2023-02-13T05:06:07.050199Z"
    },
    "_uuid": "2e57449a04d8c21756baefaf75c8ad2eed71be29",
    "scrolled": false
   },
   "outputs": [],
   "source": [
    "# Dropping mileage as p-value is high.\n",
    "X_train_new3 = X_train_new2.drop([\"curbweight\"], axis = 1)\n",
    "\n",
    "\n",
    "# Adding a constant variable \n",
    "import statsmodels.api as sm  \n",
    "X_train_lm = sm.add_constant(X_train_new3)\n",
    "\n",
    "lm = sm.OLS(y_train,X_train_lm).fit()   # Running the linear model\n",
    "\n",
    "#Let's see the summary of our linear model\n",
    "print(lm.summary())"
   ]
  },
  {
   "cell_type": "code",
   "execution_count": null,
   "metadata": {
    "ExecuteTime": {
     "end_time": "2023-02-13T05:06:07.085806Z",
     "start_time": "2023-02-13T05:06:07.065571Z"
    },
    "_uuid": "daf51704b15fbd1d8c55bb0f674bdeada5d0da07"
   },
   "outputs": [],
   "source": [
    "# Calculate the VIFs for the new model\n",
    "from statsmodels.stats.outliers_influence import variance_inflation_factor\n",
    "\n",
    "vif = pd.DataFrame()\n",
    "X = X_train_new3\n",
    "vif['Features'] = X.columns\n",
    "vif['VIF'] = [variance_inflation_factor(X.values, i) for i in range(X.shape[1])]\n",
    "vif['VIF'] = round(vif['VIF'], 2)\n",
    "vif = vif.sort_values(by = \"VIF\", ascending = False)\n",
    "vif"
   ]
  },
  {
   "cell_type": "code",
   "execution_count": null,
   "metadata": {
    "ExecuteTime": {
     "end_time": "2023-02-13T05:06:07.101639Z",
     "start_time": "2023-02-13T05:06:07.087848Z"
    },
    "_uuid": "e50bc5f7046c18bb0a4fa780fddbfc97e8b18c86",
    "scrolled": true
   },
   "outputs": [],
   "source": [
    "# Dropping sedan as VIF value is high.\n",
    "X_train_new4 = X_train_new3.drop([\"sedan\"], axis = 1)\n",
    "\n",
    "\n",
    "# Adding a constant variable \n",
    "import statsmodels.api as sm  \n",
    "X_train_lm = sm.add_constant(X_train_new4)\n",
    "\n",
    "lm = sm.OLS(y_train,X_train_lm).fit()   # Running the linear model\n",
    "\n",
    "#Let's see the summary of our linear model\n",
    "print(lm.summary())"
   ]
  },
  {
   "cell_type": "code",
   "execution_count": null,
   "metadata": {
    "ExecuteTime": {
     "end_time": "2023-02-13T05:06:07.116647Z",
     "start_time": "2023-02-13T05:06:07.103531Z"
    },
    "_uuid": "e867bee4a25ac1377666097e26e9c5d8c926e3cc",
    "scrolled": false
   },
   "outputs": [],
   "source": [
    "# Dropping wagon as p value is high.\n",
    "X_train_new5 = X_train_new4.drop([\"wagon\"], axis = 1)\n",
    "\n",
    "\n",
    "# Adding a constant variable \n",
    "import statsmodels.api as sm  \n",
    "X_train_lm = sm.add_constant(X_train_new5)\n",
    "\n",
    "lm = sm.OLS(y_train,X_train_lm).fit()   # Running the linear model\n",
    "\n",
    "#Let's see the summary of our linear model\n",
    "print(lm.summary())"
   ]
  },
  {
   "cell_type": "code",
   "execution_count": null,
   "metadata": {
    "ExecuteTime": {
     "end_time": "2023-02-13T05:06:07.132901Z",
     "start_time": "2023-02-13T05:06:07.118829Z"
    },
    "_uuid": "084c4f1b952fff5ca10e01246daa6aace60738c3",
    "scrolled": true
   },
   "outputs": [],
   "source": [
    "# Calculate the VIFs for the new model\n",
    "from statsmodels.stats.outliers_influence import variance_inflation_factor\n",
    "\n",
    "vif = pd.DataFrame()\n",
    "X = X_train_new5\n",
    "vif['Features'] = X.columns\n",
    "vif['VIF'] = [variance_inflation_factor(X.values, i) for i in range(X.shape[1])]\n",
    "vif['VIF'] = round(vif['VIF'], 2)\n",
    "vif = vif.sort_values(by = \"VIF\", ascending = False)\n",
    "vif"
   ]
  },
  {
   "cell_type": "code",
   "execution_count": null,
   "metadata": {
    "ExecuteTime": {
     "end_time": "2023-02-13T05:06:07.147122Z",
     "start_time": "2023-02-13T05:06:07.134039Z"
    },
    "_uuid": "99bd60c99b96b617d94bef7621dc5aa17b39a6de"
   },
   "outputs": [],
   "source": [
    "# Dropping dohcv to see if any change in model.\n",
    "X_train_new6 = X_train_new5.drop([\"dohcv\"], axis = 1)\n",
    "\n",
    "\n",
    "# Adding a constant variable \n",
    "import statsmodels.api as sm  \n",
    "X_train_lm = sm.add_constant(X_train_new6)\n",
    "\n",
    "lm = sm.OLS(y_train,X_train_lm).fit()   # Running the linear model\n",
    "\n",
    "#Let's see the summary of our linear model\n",
    "print(lm.summary())"
   ]
  },
  {
   "cell_type": "markdown",
   "metadata": {
    "_uuid": "15a4f3b8cf957c3c9b7cacd13eb8fddeb404549d"
   },
   "source": [
    "## Residual Analysis of the train data\n",
    "So, now to check if the error terms are also normally distributed (which is infact, one of the major assumptions of linear regression), let us plot the histogram of the error terms and see what it looks like."
   ]
  },
  {
   "cell_type": "code",
   "execution_count": null,
   "metadata": {
    "ExecuteTime": {
     "end_time": "2023-02-13T05:06:07.151524Z",
     "start_time": "2023-02-13T05:06:07.148884Z"
    },
    "_uuid": "4143a796a073e51f0fffc03dce7de478d172359d"
   },
   "outputs": [],
   "source": [
    "y_train_price = lm.predict(X_train_lm)"
   ]
  },
  {
   "cell_type": "code",
   "execution_count": null,
   "metadata": {
    "ExecuteTime": {
     "end_time": "2023-02-13T05:06:07.262431Z",
     "start_time": "2023-02-13T05:06:07.152905Z"
    },
    "_uuid": "fffda18c4a15a844e4d3fc8b5c64203f43bb15fd",
    "scrolled": true
   },
   "outputs": [],
   "source": [
    "# Plot the histogram of the error terms\n",
    "fig = plt.figure()\n",
    "sns.distplot((y_train - y_train_price), bins = 20)\n",
    "fig.suptitle('Error Terms', fontsize = 20)                  # Plot heading \n",
    "plt.xlabel('Errors', fontsize = 18)                         # X-label"
   ]
  },
  {
   "cell_type": "markdown",
   "metadata": {
    "_uuid": "c8d81bf82eec9e1c22a5de8260298e26a66dca1c"
   },
   "source": [
    "## Making Predictions\n",
    "Applying the scaling on the test sets"
   ]
  },
  {
   "cell_type": "code",
   "execution_count": null,
   "metadata": {
    "ExecuteTime": {
     "end_time": "2023-02-13T05:06:07.269019Z",
     "start_time": "2023-02-13T05:06:07.263893Z"
    },
    "_uuid": "095ddb3d1d75483c7c79b8e1b726feeb17a924eb"
   },
   "outputs": [],
   "source": [
    "num_vars = ['wheelbase', 'carlength', 'carwidth', 'curbweight', 'enginesize','boreratio', 'horsepower', 'price','mileage']\n",
    "\n",
    "df_test[num_vars] = scaler.transform(df_test[num_vars])"
   ]
  },
  {
   "cell_type": "code",
   "execution_count": null,
   "metadata": {
    "ExecuteTime": {
     "end_time": "2023-02-13T05:06:07.273357Z",
     "start_time": "2023-02-13T05:06:07.270436Z"
    },
    "_uuid": "06e2808e8a0fe843293252e790bd869907db6411"
   },
   "outputs": [],
   "source": [
    "y_test = df_test.pop('price')\n",
    "X_test = df_test"
   ]
  },
  {
   "cell_type": "code",
   "execution_count": null,
   "metadata": {
    "ExecuteTime": {
     "end_time": "2023-02-13T05:06:07.279987Z",
     "start_time": "2023-02-13T05:06:07.275189Z"
    },
    "_uuid": "00d6f715dbca3714662c8e3c6fa38a6225f1b7ba"
   },
   "outputs": [],
   "source": [
    "# Now let's use our model to make predictions.\n",
    "\n",
    "# Creating X_test_new dataframe by dropping variables from X_test\n",
    "X_test_new = X_test[['carwidth', 'horsepower', 'Luxury', 'hatchback']]\n",
    "\n",
    "# Adding a constant variable \n",
    "X_test_new = sm.add_constant(X_test_new)"
   ]
  },
  {
   "cell_type": "code",
   "execution_count": null,
   "metadata": {
    "ExecuteTime": {
     "end_time": "2023-02-13T05:06:07.284967Z",
     "start_time": "2023-02-13T05:06:07.281849Z"
    },
    "_uuid": "aca8c44fe0fb5ec2b44402531c8a046b561f128f"
   },
   "outputs": [],
   "source": [
    "# Making predictions\n",
    "y_pred = lm.predict(X_test_new)"
   ]
  },
  {
   "cell_type": "markdown",
   "metadata": {
    "_uuid": "73a95792ac9e587bdf9bf3dc65689dc3962a1e30"
   },
   "source": [
    "## Model Evaluation"
   ]
  },
  {
   "cell_type": "code",
   "execution_count": null,
   "metadata": {
    "ExecuteTime": {
     "end_time": "2023-02-13T05:06:07.290376Z",
     "start_time": "2023-02-13T05:06:07.286754Z"
    },
    "_uuid": "53d1468e6319e2a78638406dee5fd069791809f0"
   },
   "outputs": [],
   "source": [
    "from sklearn.metrics import r2_score \n",
    "r2_score(y_test, y_pred)"
   ]
  },
  {
   "cell_type": "code",
   "execution_count": null,
   "metadata": {
    "ExecuteTime": {
     "end_time": "2023-02-13T05:06:07.374519Z",
     "start_time": "2023-02-13T05:06:07.291975Z"
    },
    "_uuid": "1c637264856f3a1d63e076bdc0a713aa50b57236",
    "scrolled": true
   },
   "outputs": [],
   "source": [
    "# Plotting y_test and y_pred to understand the spread.\n",
    "fig = plt.figure()\n",
    "plt.scatter(y_test,y_pred)\n",
    "fig.suptitle('y_test vs y_pred', fontsize=20)              # Plot heading \n",
    "plt.xlabel('y_test', fontsize=18)                          # X-label\n",
    "plt.ylabel('y_pred', fontsize=16)                          # Y-label"
   ]
  },
  {
   "cell_type": "markdown",
   "metadata": {
    "_uuid": "b32ef30b99f4fab59fdd011f9d4616eb242b4046"
   },
   "source": [
    "#### We can see that the equation of our best fitted line is:\n",
    "\n",
    "__price = 0.3957 carwidth + 0.4402 horsepower + 0.2794 luxury -0.0414 hatchback -0.0824__     "
   ]
  }
 ],
 "metadata": {
  "kernelspec": {
   "display_name": "Python 3 (ipykernel)",
   "language": "python",
   "name": "python3"
  },
  "language_info": {
   "codemirror_mode": {
    "name": "ipython",
    "version": 3
   },
   "file_extension": ".py",
   "mimetype": "text/x-python",
   "name": "python",
   "nbconvert_exporter": "python",
   "pygments_lexer": "ipython3",
   "version": "3.9.13"
  },
  "varInspector": {
   "cols": {
    "lenName": 16,
    "lenType": 16,
    "lenVar": 40
   },
   "kernels_config": {
    "python": {
     "delete_cmd_postfix": "",
     "delete_cmd_prefix": "del ",
     "library": "var_list.py",
     "varRefreshCmd": "print(var_dic_list())"
    },
    "r": {
     "delete_cmd_postfix": ") ",
     "delete_cmd_prefix": "rm(",
     "library": "var_list.r",
     "varRefreshCmd": "cat(var_dic_list()) "
    }
   },
   "types_to_exclude": [
    "module",
    "function",
    "builtin_function_or_method",
    "instance",
    "_Feature"
   ],
   "window_display": false
  }
 },
 "nbformat": 4,
 "nbformat_minor": 1
}
